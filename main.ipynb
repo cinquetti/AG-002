{
 "cells": [
  {
   "cell_type": "markdown",
   "metadata": {},
   "source": [
    "### AG-002\n",
    "\n",
    "<img src='images/penguin.png' width= 500px>\n",
    "\n",
    "#### Nome da Dupla  e Mátricula\n",
    "\n",
    "Nome: Lucas Cinquetti Moreira; Carl Betsa Costa\n",
    "\n",
    "Matrícula: 330; 59"
   ]
  },
  {
   "cell_type": "markdown",
   "metadata": {},
   "source": [
    "#### Bibliotecas"
   ]
  },
  {
   "cell_type": "code",
   "execution_count": 13,
   "metadata": {},
   "outputs": [
    {
     "data": {
      "text/html": [
       "<div>\n",
       "<style scoped>\n",
       "    .dataframe tbody tr th:only-of-type {\n",
       "        vertical-align: middle;\n",
       "    }\n",
       "\n",
       "    .dataframe tbody tr th {\n",
       "        vertical-align: top;\n",
       "    }\n",
       "\n",
       "    .dataframe thead th {\n",
       "        text-align: right;\n",
       "    }\n",
       "</style>\n",
       "<table border=\"1\" class=\"dataframe\">\n",
       "  <thead>\n",
       "    <tr style=\"text-align: right;\">\n",
       "      <th></th>\n",
       "      <th>species</th>\n",
       "      <th>island</th>\n",
       "      <th>culmen_length_mm</th>\n",
       "      <th>culmen_depth_mm</th>\n",
       "      <th>flipper_length_mm</th>\n",
       "      <th>body_mass_g</th>\n",
       "      <th>sex</th>\n",
       "    </tr>\n",
       "  </thead>\n",
       "  <tbody>\n",
       "    <tr>\n",
       "      <th>0</th>\n",
       "      <td>Adelie</td>\n",
       "      <td>Torgersen</td>\n",
       "      <td>39.1</td>\n",
       "      <td>18.7</td>\n",
       "      <td>181</td>\n",
       "      <td>3750</td>\n",
       "      <td>MALE</td>\n",
       "    </tr>\n",
       "    <tr>\n",
       "      <th>1</th>\n",
       "      <td>Adelie</td>\n",
       "      <td>Torgersen</td>\n",
       "      <td>39.5</td>\n",
       "      <td>17.4</td>\n",
       "      <td>186</td>\n",
       "      <td>3800</td>\n",
       "      <td>FEMALE</td>\n",
       "    </tr>\n",
       "    <tr>\n",
       "      <th>2</th>\n",
       "      <td>Adelie</td>\n",
       "      <td>Torgersen</td>\n",
       "      <td>40.3</td>\n",
       "      <td>18.0</td>\n",
       "      <td>195</td>\n",
       "      <td>3250</td>\n",
       "      <td>FEMALE</td>\n",
       "    </tr>\n",
       "    <tr>\n",
       "      <th>3</th>\n",
       "      <td>Adelie</td>\n",
       "      <td>Torgersen</td>\n",
       "      <td>36.7</td>\n",
       "      <td>19.3</td>\n",
       "      <td>193</td>\n",
       "      <td>3450</td>\n",
       "      <td>FEMALE</td>\n",
       "    </tr>\n",
       "    <tr>\n",
       "      <th>4</th>\n",
       "      <td>Adelie</td>\n",
       "      <td>Torgersen</td>\n",
       "      <td>39.3</td>\n",
       "      <td>20.6</td>\n",
       "      <td>190</td>\n",
       "      <td>3650</td>\n",
       "      <td>MALE</td>\n",
       "    </tr>\n",
       "  </tbody>\n",
       "</table>\n",
       "</div>"
      ],
      "text/plain": [
       "  species     island  culmen_length_mm  culmen_depth_mm  flipper_length_mm  \\\n",
       "0  Adelie  Torgersen              39.1             18.7                181   \n",
       "1  Adelie  Torgersen              39.5             17.4                186   \n",
       "2  Adelie  Torgersen              40.3             18.0                195   \n",
       "3  Adelie  Torgersen              36.7             19.3                193   \n",
       "4  Adelie  Torgersen              39.3             20.6                190   \n",
       "\n",
       "   body_mass_g     sex  \n",
       "0         3750    MALE  \n",
       "1         3800  FEMALE  \n",
       "2         3250  FEMALE  \n",
       "3         3450  FEMALE  \n",
       "4         3650    MALE  "
      ]
     },
     "execution_count": 13,
     "metadata": {},
     "output_type": "execute_result"
    }
   ],
   "source": [
    "### Análise de dados\n",
    "import pandas as pd\n",
    "import numpy as np\n",
    "import matplotlib.pyplot as plt\n",
    "import seaborn as sns\n",
    "\n",
    "### Criação do modelo\n",
    "from sklearn.tree import DecisionTreeClassifier\n",
    "from sklearn.ensemble import RandomForestClassifier\n",
    "from sklearn.neighbors import KNeighborsClassifier\n",
    "from sklearn.model_selection import train_test_split \n",
    "\n",
    "### Avaliação de métricas\n",
    "from sklearn.metrics import accuracy_score\n",
    "\n",
    "data = pd.read_csv(\"palmerpenguins.csv\")\n",
    "data.head() # imprimir 5 primeiros registros"
   ]
  },
  {
   "cell_type": "markdown",
   "metadata": {},
   "source": [
    "#### Convertendo valores do Dataset para números inteiros"
   ]
  },
  {
   "cell_type": "code",
   "execution_count": 14,
   "metadata": {},
   "outputs": [
    {
     "name": "stderr",
     "output_type": "stream",
     "text": [
      "C:\\Users\\cinqu\\AppData\\Local\\Temp\\ipykernel_85912\\3785448835.py:7: FutureWarning: Downcasting behavior in `replace` is deprecated and will be removed in a future version. To retain the old behavior, explicitly call `result.infer_objects(copy=False)`. To opt-in to the future behavior, set `pd.set_option('future.no_silent_downcasting', True)`\n",
      "  data['island'] = data['island'].replace(island_mapping)\n",
      "C:\\Users\\cinqu\\AppData\\Local\\Temp\\ipykernel_85912\\3785448835.py:8: FutureWarning: Downcasting behavior in `replace` is deprecated and will be removed in a future version. To retain the old behavior, explicitly call `result.infer_objects(copy=False)`. To opt-in to the future behavior, set `pd.set_option('future.no_silent_downcasting', True)`\n",
      "  data['sex'] = data['sex'].replace(sex_mapping)\n",
      "C:\\Users\\cinqu\\AppData\\Local\\Temp\\ipykernel_85912\\3785448835.py:9: FutureWarning: Downcasting behavior in `replace` is deprecated and will be removed in a future version. To retain the old behavior, explicitly call `result.infer_objects(copy=False)`. To opt-in to the future behavior, set `pd.set_option('future.no_silent_downcasting', True)`\n",
      "  data['species'] = data['species'].replace(species_mapping)\n"
     ]
    },
    {
     "data": {
      "text/html": [
       "<div>\n",
       "<style scoped>\n",
       "    .dataframe tbody tr th:only-of-type {\n",
       "        vertical-align: middle;\n",
       "    }\n",
       "\n",
       "    .dataframe tbody tr th {\n",
       "        vertical-align: top;\n",
       "    }\n",
       "\n",
       "    .dataframe thead th {\n",
       "        text-align: right;\n",
       "    }\n",
       "</style>\n",
       "<table border=\"1\" class=\"dataframe\">\n",
       "  <thead>\n",
       "    <tr style=\"text-align: right;\">\n",
       "      <th></th>\n",
       "      <th>species</th>\n",
       "      <th>island</th>\n",
       "      <th>culmen_length_mm</th>\n",
       "      <th>culmen_depth_mm</th>\n",
       "      <th>flipper_length_mm</th>\n",
       "      <th>body_mass_g</th>\n",
       "      <th>sex</th>\n",
       "    </tr>\n",
       "  </thead>\n",
       "  <tbody>\n",
       "    <tr>\n",
       "      <th>0</th>\n",
       "      <td>0</td>\n",
       "      <td>2</td>\n",
       "      <td>39.1</td>\n",
       "      <td>18.7</td>\n",
       "      <td>181</td>\n",
       "      <td>3750</td>\n",
       "      <td>1</td>\n",
       "    </tr>\n",
       "    <tr>\n",
       "      <th>1</th>\n",
       "      <td>0</td>\n",
       "      <td>2</td>\n",
       "      <td>39.5</td>\n",
       "      <td>17.4</td>\n",
       "      <td>186</td>\n",
       "      <td>3800</td>\n",
       "      <td>0</td>\n",
       "    </tr>\n",
       "    <tr>\n",
       "      <th>2</th>\n",
       "      <td>0</td>\n",
       "      <td>2</td>\n",
       "      <td>40.3</td>\n",
       "      <td>18.0</td>\n",
       "      <td>195</td>\n",
       "      <td>3250</td>\n",
       "      <td>0</td>\n",
       "    </tr>\n",
       "    <tr>\n",
       "      <th>3</th>\n",
       "      <td>0</td>\n",
       "      <td>2</td>\n",
       "      <td>36.7</td>\n",
       "      <td>19.3</td>\n",
       "      <td>193</td>\n",
       "      <td>3450</td>\n",
       "      <td>0</td>\n",
       "    </tr>\n",
       "    <tr>\n",
       "      <th>4</th>\n",
       "      <td>0</td>\n",
       "      <td>2</td>\n",
       "      <td>39.3</td>\n",
       "      <td>20.6</td>\n",
       "      <td>190</td>\n",
       "      <td>3650</td>\n",
       "      <td>1</td>\n",
       "    </tr>\n",
       "  </tbody>\n",
       "</table>\n",
       "</div>"
      ],
      "text/plain": [
       "   species  island  culmen_length_mm  culmen_depth_mm  flipper_length_mm  \\\n",
       "0        0       2              39.1             18.7                181   \n",
       "1        0       2              39.5             17.4                186   \n",
       "2        0       2              40.3             18.0                195   \n",
       "3        0       2              36.7             19.3                193   \n",
       "4        0       2              39.3             20.6                190   \n",
       "\n",
       "   body_mass_g  sex  \n",
       "0         3750    1  \n",
       "1         3800    0  \n",
       "2         3250    0  \n",
       "3         3450    0  \n",
       "4         3650    1  "
      ]
     },
     "execution_count": 14,
     "metadata": {},
     "output_type": "execute_result"
    }
   ],
   "source": [
    "# Mapeamento para as colunas\n",
    "island_mapping = {'Biscoe': 0, 'Dream': 1, 'Torgersen': 2}\n",
    "sex_mapping = {'FEMALE': 0, 'MALE': 1}\n",
    "species_mapping = {'Adelie': 0, 'Chinstrap': 1, 'Gentoo': 2}\n",
    "\n",
    "# Aplicando os mapeamentos\n",
    "data['island'] = data['island'].replace(island_mapping)\n",
    "data['sex'] = data['sex'].replace(sex_mapping)\n",
    "data['species'] = data['species'].replace(species_mapping)\n",
    "\n",
    "data.head()"
   ]
  },
  {
   "cell_type": "markdown",
   "metadata": {},
   "source": [
    "#### Reordenando Colunas"
   ]
  },
  {
   "cell_type": "code",
   "execution_count": 15,
   "metadata": {},
   "outputs": [
    {
     "data": {
      "text/html": [
       "<div>\n",
       "<style scoped>\n",
       "    .dataframe tbody tr th:only-of-type {\n",
       "        vertical-align: middle;\n",
       "    }\n",
       "\n",
       "    .dataframe tbody tr th {\n",
       "        vertical-align: top;\n",
       "    }\n",
       "\n",
       "    .dataframe thead th {\n",
       "        text-align: right;\n",
       "    }\n",
       "</style>\n",
       "<table border=\"1\" class=\"dataframe\">\n",
       "  <thead>\n",
       "    <tr style=\"text-align: right;\">\n",
       "      <th></th>\n",
       "      <th>island</th>\n",
       "      <th>sex</th>\n",
       "      <th>culmen_length_mm</th>\n",
       "      <th>culmen_depth_mm</th>\n",
       "      <th>flipper_length_mm</th>\n",
       "      <th>body_mass_g</th>\n",
       "      <th>species</th>\n",
       "    </tr>\n",
       "  </thead>\n",
       "  <tbody>\n",
       "    <tr>\n",
       "      <th>0</th>\n",
       "      <td>2</td>\n",
       "      <td>1</td>\n",
       "      <td>39.1</td>\n",
       "      <td>18.7</td>\n",
       "      <td>181</td>\n",
       "      <td>3750</td>\n",
       "      <td>0</td>\n",
       "    </tr>\n",
       "    <tr>\n",
       "      <th>1</th>\n",
       "      <td>2</td>\n",
       "      <td>0</td>\n",
       "      <td>39.5</td>\n",
       "      <td>17.4</td>\n",
       "      <td>186</td>\n",
       "      <td>3800</td>\n",
       "      <td>0</td>\n",
       "    </tr>\n",
       "    <tr>\n",
       "      <th>2</th>\n",
       "      <td>2</td>\n",
       "      <td>0</td>\n",
       "      <td>40.3</td>\n",
       "      <td>18.0</td>\n",
       "      <td>195</td>\n",
       "      <td>3250</td>\n",
       "      <td>0</td>\n",
       "    </tr>\n",
       "    <tr>\n",
       "      <th>3</th>\n",
       "      <td>2</td>\n",
       "      <td>0</td>\n",
       "      <td>36.7</td>\n",
       "      <td>19.3</td>\n",
       "      <td>193</td>\n",
       "      <td>3450</td>\n",
       "      <td>0</td>\n",
       "    </tr>\n",
       "    <tr>\n",
       "      <th>4</th>\n",
       "      <td>2</td>\n",
       "      <td>1</td>\n",
       "      <td>39.3</td>\n",
       "      <td>20.6</td>\n",
       "      <td>190</td>\n",
       "      <td>3650</td>\n",
       "      <td>0</td>\n",
       "    </tr>\n",
       "  </tbody>\n",
       "</table>\n",
       "</div>"
      ],
      "text/plain": [
       "   island  sex  culmen_length_mm  culmen_depth_mm  flipper_length_mm  \\\n",
       "0       2    1              39.1             18.7                181   \n",
       "1       2    0              39.5             17.4                186   \n",
       "2       2    0              40.3             18.0                195   \n",
       "3       2    0              36.7             19.3                193   \n",
       "4       2    1              39.3             20.6                190   \n",
       "\n",
       "   body_mass_g  species  \n",
       "0         3750        0  \n",
       "1         3800        0  \n",
       "2         3250        0  \n",
       "3         3450        0  \n",
       "4         3650        0  "
      ]
     },
     "execution_count": 15,
     "metadata": {},
     "output_type": "execute_result"
    }
   ],
   "source": [
    "nova_ordem_colunas = ['island', 'sex', 'culmen_length_mm', 'culmen_depth_mm', 'flipper_length_mm', 'body_mass_g', 'species']\n",
    "\n",
    "data2 = data.reindex(columns= nova_ordem_colunas)\n",
    "\n",
    "data2.head()"
   ]
  },
  {
   "cell_type": "markdown",
   "metadata": {},
   "source": [
    "#### Separando o alvo dos dados e chamando train_test_split"
   ]
  },
  {
   "cell_type": "code",
   "execution_count": 16,
   "metadata": {},
   "outputs": [
    {
     "name": "stdout",
     "output_type": "stream",
     "text": [
      "Tamanho X de treino: (266, 6)\n",
      "Tamanho X de teste: (67, 6)\n",
      "Tamanho y de treino: (266,)\n",
      "Tamanho y de teste: (67,)\n"
     ]
    }
   ],
   "source": [
    "# Separando dados\n",
    "## Variáveis preditoras\n",
    "X = data.loc[:,['island', 'sex', 'culmen_length_mm', 'culmen_depth_mm', 'flipper_length_mm', 'body_mass_g']]\n",
    "X = np.array(X)\n",
    "\n",
    "## Variável alvo\n",
    "y = data[\"species\"]\n",
    "y = np.array(y)\n",
    "\n",
    "## Separando treino e teste\n",
    "X_train, X_test, y_train, y_test = train_test_split(X, y, test_size=0.2, random_state = 0)\n",
    "print(f\"Tamanho X de treino: {X_train.shape}\")\n",
    "print(f\"Tamanho X de teste: {X_test.shape}\")\n",
    "print(f\"Tamanho y de treino: {y_train.shape}\")\n",
    "print(f\"Tamanho y de teste: {y_test.shape}\")\n"
   ]
  },
  {
   "cell_type": "markdown",
   "metadata": {},
   "source": [
    "#### Instanciando, treinando e prevendo com os modelos Knn e Decision Tree"
   ]
  },
  {
   "cell_type": "code",
   "execution_count": 17,
   "metadata": {},
   "outputs": [
    {
     "name": "stdout",
     "output_type": "stream",
     "text": [
      "Pontuação Decision Tree:0.9850746268656716\n",
      "Pontuação KNN:0.7910447761194029\n"
     ]
    }
   ],
   "source": [
    "# instanciando modelos\n",
    "tree = DecisionTreeClassifier()\n",
    "knn = KNeighborsClassifier()\n",
    "\n",
    "\n",
    "# Treinando modelos\n",
    "tree.fit(X_train, y_train)\n",
    "knn.fit(X_train, y_train)\n",
    "\n",
    "# Prevendo valores\n",
    "tree_predict = tree.predict(X_test)\n",
    "knn_predict = knn.predict(X_test)\n",
    "\n",
    "# Avaliação\n",
    "tree_score = accuracy_score(y_test, tree_predict)\n",
    "knn_score = accuracy_score(y_test, knn_predict)\n",
    "\n",
    "print(f\"Pontuação Decision Tree:{tree_score}\")\n",
    "print(f\"Pontuação KNN:{knn_score}\")"
   ]
  },
  {
   "cell_type": "code",
   "execution_count": 18,
   "metadata": {},
   "outputs": [
    {
     "data": {
      "image/png": "[encoded data removed]",
      "text/plain": [
       "<Figure size 800x400 with 1 Axes>"
      ]
     },
     "metadata": {},
     "output_type": "display_data"
    }
   ],
   "source": [
    "# Plotando resultados\n",
    "plt.figure(figsize = (8,4))\n",
    "plt.title(\"Models accuracy\")\n",
    "plt.bar(x = [0,2], height = [tree_score, knn_score], color = \"black\")\n",
    "plt.xticks([0,2], [\"Tree\", \"KNN\"])\n",
    "plt.ylim(0.5,1.1)\n",
    "plt.ylabel(\"Accuracy\")\n",
    "plt.xlabel(\"Models\")\n",
    "plt.grid()\n",
    "plt.show()"
   ]
  },
  {
   "cell_type": "markdown",
   "metadata": {},
   "source": [
    "#### Input de teste (Pedir pro usuário as informações de um penguin para que ele seja classificado)"
   ]
  },
  {
   "cell_type": "code",
   "execution_count": null,
   "metadata": {},
   "outputs": [],
   "source": [
    "# Função para permitir ao usuário inserir dados\n",
    "def classify_penguin():\n",
    "    print(\"Insira os dados do pinguim para classificação:\")\n",
    "    island = int(input(\"Ilha (0: Biscoe, 1: Dream, 2: Torgersen): \"))\n",
    "    sex = int(input(\"Sexo (0: FEMALE, 1: MALE): \"))\n",
    "    culmen_length_mm = float(input(\"Comprimento do culmen (mm): \"))\n",
    "    culmen_depth_mm = float(input(\"Profundidade do culmen (mm): \"))\n",
    "    flipper_length_mm = float(input(\"Comprimento da nadadeira (mm): \"))\n",
    "    body_mass_g = float(input(\"Massa corporal (g): \"))\n",
    "\n",
    "    # Criar um DataFrame com os dados inseridos\n",
    "    input_data = pd.DataFrame({\n",
    "        'island': [island],\n",
    "        'sex': [sex],\n",
    "        'culmen_length_mm': [culmen_length_mm],\n",
    "        'culmen_depth_mm': [culmen_depth_mm],\n",
    "        'flipper_length_mm': [flipper_length_mm],\n",
    "        'body_mass_g': [body_mass_g]\n",
    "    })\n",
    "\n",
    "    # Fazer previsões com os modelos treinados\n",
    "    tree_prediction = tree.predict(input_data)[0]\n",
    "    knn_prediction = knn.predict(input_data)[0]\n",
    "\n",
    "    # Mapeamento inverso para a espécie\n",
    "    species_reverse_mapping = {0: 'Adelie', 1: 'Chinstrap', 2: 'Gentoo'}\n",
    "    \n",
    "    print(f\"Previsão Decision Tree: {species_reverse_mapping[tree_prediction]}\")\n",
    "    print(f\"Previsão KNN: {species_reverse_mapping[knn_prediction]}\")\n",
    "\n",
    "# Chamar a função para inserir dados e classificar o pinguim\n",
    "classify_penguin()"
   ]
  }
 ],
 "metadata": {
  "kernelspec": {
   "display_name": "Python 3",
   "language": "python",
   "name": "python3"
  },
  "language_info": {
   "codemirror_mode": {
    "name": "ipython",
    "version": 3
   },
   "file_extension": ".py",
   "mimetype": "text/x-python",
   "name": "python",
   "nbconvert_exporter": "python",
   "pygments_lexer": "ipython3",
   "version": "3.12.2"
  }
 },
 "nbformat": 4,
 "nbformat_minor": 2
}
